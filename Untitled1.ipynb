{
 "metadata": {
  "name": "",
  "signature": "sha256:abbd76ffd66939aac91cea5419506e2944e5ec287e0d1dc5d0a43ab7c5b332ad"
 },
 "nbformat": 3,
 "nbformat_minor": 0,
 "worksheets": [
  {
   "cells": [
    {
     "cell_type": "code",
     "collapsed": false,
     "input": [
      "pwd"
     ],
     "language": "python",
     "metadata": {},
     "outputs": [
      {
       "metadata": {},
       "output_type": "pyout",
       "prompt_number": 1,
       "text": [
        "u'C:\\\\Users\\\\Kamat\\\\Documents\\\\GitHub\\\\myRapier'"
       ]
      }
     ],
     "prompt_number": 1
    },
    {
     "cell_type": "code",
     "collapsed": false,
     "input": [
      "%matplotlib inline\n",
      "import pandas as pd\n",
      "import numpy as np\n",
      "import matplotlib.pyplot as plt\n",
      "import math"
     ],
     "language": "python",
     "metadata": {},
     "outputs": [],
     "prompt_number": 123
    },
    {
     "cell_type": "code",
     "collapsed": false,
     "input": [
      "pd.set_option('html', False)\n",
      "pd.set_option('max_columns', 200)\n",
      "pd.set_option('max_rows', 50)"
     ],
     "language": "python",
     "metadata": {},
     "outputs": [],
     "prompt_number": 156
    },
    {
     "cell_type": "code",
     "collapsed": false,
     "input": [
      "noReg=pd.read_csv('noRegression.csv', keep_default_na=False, na_values=[\"NA\"],dtype={'Carry+Roll)/Std':np.float64})"
     ],
     "language": "python",
     "metadata": {},
     "outputs": [],
     "prompt_number": 231
    },
    {
     "cell_type": "code",
     "collapsed": false,
     "input": [
      "noReg[[\"(Carry+Roll)/Std\",\"Carry(3m)\",\"Roll(3m)\"]]=noReg[[\"(Carry+Roll)/Std\",\"Carry(3m)\",\"Roll(3m)\"]].convert_objects(convert_numeric=True)"
     ],
     "language": "python",
     "metadata": {},
     "outputs": [],
     "prompt_number": 232
    },
    {
     "cell_type": "code",
     "collapsed": false,
     "input": [
      "def quad(elem):\n",
      "    if (elem['Corr_PC1']>0 and elem['Corr_PC2']>0):\n",
      "        return 'Q1'\n",
      "    elif (elem['Corr_PC1']>0 and elem['Corr_PC2']<0):\n",
      "        return 'Q4'\n",
      "    elif (elem['Corr_PC1']<0 and elem['Corr_PC2']>0):\n",
      "        return 'Q2'\n",
      "    elif (elem['Corr_PC1']<0 and elem['Corr_PC2']<0):\n",
      "        return 'Q3'"
     ],
     "language": "python",
     "metadata": {},
     "outputs": [],
     "prompt_number": 233
    },
    {
     "cell_type": "code",
     "collapsed": false,
     "input": [
      "def mapcolor(elem):\n",
      "    temp=math.copysign(1,elem['Carry(3m)'])\n",
      "    if temp==1:\n",
      "        return 'g'\n",
      "    else:\n",
      "        return 'r'"
     ],
     "language": "python",
     "metadata": {},
     "outputs": [],
     "prompt_number": 234
    },
    {
     "cell_type": "code",
     "collapsed": false,
     "input": [
      "noReg['Tenor']=noReg.apply(lambda x: x['PT_Tenor1']+x['PT_Tenor2']+x['PT_Tenor3'] ,axis=1)"
     ],
     "language": "python",
     "metadata": {},
     "outputs": [],
     "prompt_number": 235
    },
    {
     "cell_type": "code",
     "collapsed": false,
     "input": [
      "noReg['bubblesize']=noReg.apply(lambda x: 400*abs(x['(Carry+Roll)/Std']),axis=1)"
     ],
     "language": "python",
     "metadata": {},
     "outputs": [],
     "prompt_number": 236
    },
    {
     "cell_type": "code",
     "collapsed": false,
     "input": [
      "noReg['bubblecolor']=noReg.apply(lambda x: mapcolor(x),axis=1)"
     ],
     "language": "python",
     "metadata": {},
     "outputs": [],
     "prompt_number": 237
    },
    {
     "cell_type": "code",
     "collapsed": false,
     "input": [
      "noReg['quad']=noReg.apply(quad,axis=1)"
     ],
     "language": "python",
     "metadata": {},
     "outputs": [],
     "prompt_number": 238
    },
    {
     "cell_type": "code",
     "collapsed": false,
     "input": [
      "topTrades = noReg[(noReg['PT_Currency']==\"USD\") & (noReg['Main Product Type']=='swap')]"
     ],
     "language": "python",
     "metadata": {},
     "outputs": [],
     "prompt_number": 561
    },
    {
     "cell_type": "code",
     "collapsed": false,
     "input": [
      "topTrades1 =topTrades.sort('bubblesize').groupby('quad')"
     ],
     "language": "python",
     "metadata": {},
     "outputs": [],
     "prompt_number": 562
    },
    {
     "cell_type": "code",
     "collapsed": false,
     "input": [
      "topTradesFinal=topTrades1.get_group(topTrades1.groups.keys()[0]).head(4)\n",
      "for i in range(1,len(topTrades1.groups.keys())):\n",
      "    topTradesFinal=topTradesFinal.append(topTrades1.get_group(topTrades1.groups.keys()[i]).head(4))"
     ],
     "language": "python",
     "metadata": {},
     "outputs": [],
     "prompt_number": 563
    },
    {
     "cell_type": "raw",
     "metadata": {},
     "source": []
    },
    {
     "cell_type": "code",
     "collapsed": false,
     "input": [
      "fig=plt.figure()\n",
      "axes1 =fig.add_axes([0,0,1,1])\n",
      "axes2 = fig.add_axes([0.08,0.1,0.85,0.85], frameon=True,alpha=0)\n",
      "axes1.set_xlim(xmin=-1, xmax=1)\n",
      "axes1.set_ylim(ymin=-1, ymax=1)\n",
      "axes1.annotate('Bull',(-0.5,-0.9))\n",
      "axes1.annotate('Bear',(0.5,-0.9))\n",
      "axes1.annotate('Bull',(-0.5,0.92))\n",
      "axes1.annotate('Bear',(0.5,0.92))\n",
      "axes1.annotate('Steepener',(-0.95,0.5),rotation=90)\n",
      "axes1.annotate('Flattener',(-0.95,-0.5),rotation=90)\n",
      "axes1.annotate('Steepener',(0.90,0.5),rotation=270)\n",
      "axes1.annotate('Flattener',(0.90,-0.5),rotation=270)\n",
      "axes1.axis('off')\n",
      "axes2.set_xlim(xmin=-1, xmax=1)\n",
      "axes2.set_ylim(ymin=-1, ymax=1)\n",
      "axes2.spines['right'].set_color('none')\n",
      "axes2.spines['top'].set_color('none')\n",
      "axes2.xaxis.set_ticks_position('bottom')\n",
      "axes2.spines['bottom'].set_position(('data',0)) \n",
      "axes2.yaxis.set_ticks_position('left')\n",
      "axes2.spines['left'].set_position(('data',0))  \n",
      "axes2.scatter(topTradesFinal['Corr_PC1'],topTradesFinal['Corr_PC2'],s=topTradesFinal['bubblesize'],marker='o',c=topTradesFinal['bubblecolor'],alpha=0.75)"
     ],
     "language": "python",
     "metadata": {},
     "outputs": [
      {
       "metadata": {},
       "output_type": "pyout",
       "prompt_number": 564,
       "text": [
        "<matplotlib.collections.PathCollection at 0x91f4b30>"
       ]
      },
      {
       "metadata": {},
       "output_type": "display_data",
       "png": "[encoded data removed]",
       "text": [
        "<matplotlib.figure.Figure at 0xb584450>"
       ]
      }
     ],
     "prompt_number": 564
    },
    {
     "cell_type": "code",
     "collapsed": false,
     "input": [
      "filename=\"images/Top\" + topTradesFinal.iloc[0]['PT_Currency'] + \"Trades.svg\""
     ],
     "language": "python",
     "metadata": {},
     "outputs": [],
     "prompt_number": 565
    },
    {
     "cell_type": "code",
     "collapsed": false,
     "input": [
      "fig.savefig(filename,dpi=500)"
     ],
     "language": "python",
     "metadata": {},
     "outputs": [],
     "prompt_number": 566
    },
    {
     "cell_type": "code",
     "collapsed": false,
     "input": [
      "zz={'topTrades':topTradesFinal['Tenor'],'Lvl':np.round(topTradesFinal['Level_Current'],2), 'Lvl Low':np.round(topTradesFinal['Level_Low(3m)'],2),'Lvl High':np.round(topTradesFinal['Level_High(3m)'],2),'Carry':np.round(topTradesFinal['Carry(3m)'],2),'Roll':np.round(topTradesFinal['Roll(3m)'],2),'DailyVol':np.round(topTradesFinal['Std'],2),'Z PCA':np.round(topTradesFinal['Z'],2),'p-score':np.round(topTradesFinal['(Carry+Roll)/Std'],2),'Duration':topTradesFinal['Type_PC1'],'Curve':topTradesFinal['Type_PC2\\\n",
      "']}\n",
      "zz1=pd.DataFrame(zz,columns=['topTrades','Lvl','Lvl Low','Lvl High','Carry','Roll','DailyVol','Z PCA','p-score','Duration', 'Curve'])"
     ],
     "language": "python",
     "metadata": {},
     "outputs": [],
     "prompt_number": 567
    },
    {
     "cell_type": "code",
     "collapsed": false,
     "input": [
      "print zz1.to_latex(index=False)"
     ],
     "language": "python",
     "metadata": {},
     "outputs": [
      {
       "output_type": "stream",
       "stream": "stdout",
       "text": [
        "\\begin{tabular}{lrrrrrrrrll}\n",
        "\\toprule\n",
        "    topTrades &     Lvl &  Lvl Low &  Lvl High &  Carry &  Roll &  DailyVol &  Z PCA &  p-score &     Duration &           Curve \\\\\n",
        "\\midrule\n",
        "  20Y5Y20Y10Y &   -3.20 &    -3.56 &     -1.74 &    NaN &  0.01 &      0.24 &  -0.82 &     0.03 &    Weak Bear &  Mild Steepener \\\\\n",
        " 15Y10Y20Y10Y &   -7.39 &    -9.94 &     -5.32 &    NaN & -0.02 &      0.37 &   0.61 &    -0.05 &    Weak Bear &  Weak Steepener \\\\\n",
        "  15Y5Y20Y10Y &  -11.01 &   -15.44 &     -8.06 &    NaN & -0.05 &      0.57 &   1.02 &    -0.09 &    Weak Bear &         Neutral \\\\\n",
        " 10Y10Y20Y10Y &  -13.46 &   -16.39 &     -9.33 &    NaN & -0.29 &      0.59 &   0.51 &    -0.48 &    Weak Bear &         Neutral \\\\\n",
        "        11Y2Y &  332.98 &   260.55 &    339.95 &    NaN &  0.01 &      6.39 &   0.00 &     0.00 &  Strong Bull &  Mild Flattener \\\\\n",
        "        10Y7Y &  331.32 &   259.33 &    338.78 &    NaN &  0.01 &      6.30 &  -0.09 &     0.00 &  Strong Bull &  Mild Flattener \\\\\n",
        "        8Y20Y &  325.36 &   253.73 &    332.58 &    NaN & -0.03 &      6.23 &  -0.10 &     0.00 &  Strong Bull &  Mild Flattener \\\\\n",
        "        8Y15Y &  327.81 &   256.02 &    335.58 &    NaN &  0.05 &      6.27 &  -0.12 &     0.01 &  Strong Bull &  Mild Flattener \\\\\n",
        "      5Y7Y10Y &    4.04 &     1.00 &      4.83 &   0.25 & -0.25 &      0.54 &  -0.88 &     0.00 &    Mild Bull &  Weak Steepener \\\\\n",
        "      1Y6Y10Y &   99.16 &    76.58 &    109.77 &   1.57 & -1.67 &      3.56 &  -1.65 &    -0.03 &  Strong Bull &  Weak Steepener \\\\\n",
        "    5Y10Y7Y1Y &   -4.36 &    -7.52 &     -1.13 &    NaN & -0.03 &      0.93 &  -1.42 &    -0.03 &    Weak Bull &         Neutral \\\\\n",
        "       1Y5Y7Y &   91.38 &    72.92 &    100.70 &   1.34 & -1.44 &      3.15 &  -1.68 &    -0.03 &  Strong Bull &  Weak Steepener \\\\\n",
        "     7Y1Y8Y1Y &    5.63 &     3.63 &      6.88 &    NaN & -0.03 &      0.63 &   2.02 &    -0.05 &    Weak Bear &  Weak Flattener \\\\\n",
        "  15Y10Y20Y5Y &   -4.19 &    -6.39 &     -2.98 &    NaN & -0.02 &      0.28 &   1.50 &    -0.09 &    Weak Bear &         Neutral \\\\\n",
        "   15Y5Y20Y5Y &   -7.81 &   -11.88 &     -5.62 &    NaN & -0.06 &      0.53 &   1.49 &    -0.11 &    Weak Bear &         Neutral \\\\\n",
        "  15Y5Y15Y10Y &   -3.62 &    -5.49 &     -2.64 &    NaN & -0.03 &      0.24 &   1.47 &    -0.13 &    Weak Bear &         Neutral \\\\\n",
        "\\bottomrule\n",
        "\\end{tabular}\n",
        "\n"
       ]
      }
     ],
     "prompt_number": 568
    },
    {
     "cell_type": "code",
     "collapsed": false,
     "input": [
      "outrightsUSD = noReg[(noReg['PT_Currency']==\"USD\") & (noReg['PT Name']=='switch') & (noReg['Main Product Type']=='swap')]"
     ],
     "language": "python",
     "metadata": {},
     "outputs": [],
     "prompt_number": 569
    },
    {
     "cell_type": "code",
     "collapsed": false,
     "input": [
      "abc=outrightsUSD.sort('bubblesize').groupby('quad')"
     ],
     "language": "python",
     "metadata": {},
     "outputs": [],
     "prompt_number": 570
    },
    {
     "cell_type": "code",
     "collapsed": false,
     "input": [
      "ff1=abc.get_group(abc.groups.keys()[0]).head(4)\n",
      "for i in range(1,len(abc.groups.keys())):\n",
      "    ff1=ff1.append(abc.get_group(abc.groups.keys()[i]).head(4))"
     ],
     "language": "python",
     "metadata": {},
     "outputs": [],
     "prompt_number": 571
    },
    {
     "cell_type": "code",
     "collapsed": false,
     "input": [
      "fig=plt.figure()\n",
      "axes1 =fig.add_axes([0,0,1,1])\n",
      "axes2 = fig.add_axes([0.08,0.1,0.85,0.85], frameon=True,alpha=0)\n",
      "axes1.set_xlim(xmin=-1, xmax=1)\n",
      "axes1.set_ylim(ymin=-1, ymax=1)\n",
      "axes1.annotate('Bull',(-0.5,-0.9))\n",
      "axes1.annotate('Bear',(0.5,-0.9))\n",
      "axes1.annotate('Bull',(-0.5,0.92))\n",
      "axes1.annotate('Bear',(0.5,0.92))\n",
      "axes1.annotate('Steepener',(-0.95,0.5),rotation=90)\n",
      "axes1.annotate('Flattener',(-0.95,-0.5),rotation=90)\n",
      "axes1.annotate('Steepener',(0.90,0.5),rotation=270)\n",
      "axes1.annotate('Flattener',(0.90,-0.5),rotation=270)\n",
      "axes1.axis('off')\n",
      "axes2.set_xlim(xmin=-1, xmax=1)\n",
      "axes2.set_ylim(ymin=-1, ymax=1)\n",
      "axes2.spines['right'].set_color('none')\n",
      "axes2.spines['top'].set_color('none')\n",
      "axes2.xaxis.set_ticks_position('bottom')\n",
      "axes2.spines['bottom'].set_position(('data',0)) \n",
      "axes2.yaxis.set_ticks_position('left')\n",
      "axes2.spines['left'].set_position(('data',0))  \n",
      "axes2.scatter(ff1['Corr_PC1'],ff1['Corr_PC2'],s=ff1['bubblesize'],marker='o',c=ff1['bubblecolor'],alpha=0.75)\n",
      "\n",
      "for aa,x,y in zip(ff1['Tenor'],ff1['Corr_PC1'],ff1['Corr_PC2']):\n",
      "    axes2.annotate(aa,xy=(x,y),fontsize=10)"
     ],
     "language": "python",
     "metadata": {},
     "outputs": [
      {
       "metadata": {},
       "output_type": "display_data",
       "png": "[encoded data removed]",
       "text": [
        "<matplotlib.figure.Figure at 0xb513870>"
       ]
      }
     ],
     "prompt_number": 572
    },
    {
     "cell_type": "code",
     "collapsed": false,
     "input": [
      "filename=\"images/\" + ff1.iloc[0]['PT Name']+ ff1.iloc[0]['PT_Currency'] + \".svg\""
     ],
     "language": "python",
     "metadata": {},
     "outputs": [],
     "prompt_number": 573
    },
    {
     "cell_type": "code",
     "collapsed": false,
     "input": [
      "fig.savefig(filename,dpi=500)"
     ],
     "language": "python",
     "metadata": {},
     "outputs": [],
     "prompt_number": 574
    },
    {
     "cell_type": "code",
     "collapsed": false,
     "input": [
      "zz={ff1.iloc[0]['PT Name']:ff1['Tenor'],'Lvl':np.round(ff1['Level_Current'],2), 'Lvl Low':np.round(ff1['Level_Low(3m)'],2),'Lvl High':np.round(ff1['Level_High(3m)'],2),'Carry':np.round(ff1['Carry(3m)'],2),'Roll':np.round(ff1['Roll(3m)'],2),'DailyVol':np.round(ff1['Std'],2),'Z PCA':np.round(ff1['Z'],2),'p-score':np.round(ff1['(Carry+Roll)/Std'],2),'Duration':ff1['Type_PC1'],'Curve':ff1['Type_PC2\\\n",
      "']}"
     ],
     "language": "python",
     "metadata": {},
     "outputs": [],
     "prompt_number": 575
    },
    {
     "cell_type": "code",
     "collapsed": false,
     "input": [
      "zz1=pd.DataFrame(zz,columns=[ff1.iloc[0]['PT Name'],'Lvl','Lvl Low','Lvl High','Carry','Roll','DailyVol','Z PCA','p-score','Duration', 'Curve'])"
     ],
     "language": "python",
     "metadata": {},
     "outputs": [],
     "prompt_number": 576
    },
    {
     "cell_type": "code",
     "collapsed": false,
     "input": [
      "print zz1.to_latex(index=False)"
     ],
     "language": "python",
     "metadata": {},
     "outputs": [
      {
       "output_type": "stream",
       "stream": "stdout",
       "text": [
        "\\begin{tabular}{lrrrrrrrrll}\n",
        "\\toprule\n",
        " switch &     Lvl &  Lvl Low &  Lvl High &  Carry &  Roll &  DailyVol &  Z PCA &  p-score &     Duration &             Curve \\\\\n",
        "\\midrule\n",
        "   1Y6Y &  145.03 &   113.97 &    154.88 &   0.00 & -4.21 &      3.75 &  -0.99 &    -1.12 &  Strong Bull &           Neutral \\\\\n",
        "   1Y7Y &  160.41 &   125.36 &    170.11 &  -0.44 & -5.14 &      3.96 &  -0.78 &    -1.41 &  Strong Bull &           Neutral \\\\\n",
        "   2Y5Y &   87.01 &    68.70 &     92.59 &  -0.77 & -4.38 &      2.34 &  -0.68 &    -2.20 &  Strong Bull &           Neutral \\\\\n",
        "   2Y6Y &  106.14 &    82.41 &    112.07 &  -1.22 & -5.29 &      2.73 &  -0.41 &    -2.39 &  Strong Bull &    Weak Flattener \\\\\n",
        "   1Y3Y &   73.76 &    59.03 &     80.93 &   1.26 & -0.39 &      2.30 &  -1.70 &     0.38 &  Strong Bull &    Weak Steepener \\\\\n",
        "   1Y4Y &  102.48 &    81.49 &    111.07 &   0.90 & -2.14 &      2.96 &  -1.44 &    -0.42 &  Strong Bull &           Neutral \\\\\n",
        "   1Y5Y &  125.89 &    99.40 &    135.40 &   0.45 & -3.29 &      3.45 &  -1.22 &    -0.83 &  Strong Bull &           Neutral \\\\\n",
        "   2Y3Y &   34.87 &    28.33 &     38.12 &   0.04 & -1.48 &      1.04 &  -1.27 &    -1.38 &  Strong Bull &           Neutral \\\\\n",
        " 20Y30Y &    9.78 &     5.71 &     10.88 &  -0.84 & -0.31 &      0.40 &   2.10 &    -2.89 &      Neutral &  Strong Flattener \\\\\n",
        " 20Y30Y &    8.76 &     4.87 &      9.89 &  -0.86 & -0.31 &      0.39 &   2.16 &    -2.97 &      Neutral &  Strong Flattener \\\\\n",
        " 10Y30Y &   42.66 &    27.64 &     46.96 &  -2.93 & -1.87 &      1.56 &   2.17 &    -3.08 &      Neutral &  Strong Flattener \\\\\n",
        " 15Y30Y &   20.41 &    12.92 &     22.98 &  -1.61 & -0.76 &      0.77 &   2.06 &    -3.09 &      Neutral &  Strong Flattener \\\\\n",
        "\\bottomrule\n",
        "\\end{tabular}\n",
        "\n"
       ]
      }
     ],
     "prompt_number": 577
    },
    {
     "cell_type": "code",
     "collapsed": false,
     "input": [
      "outrightsUSD = noReg[(noReg['PT_Currency']==\"USD\") & (noReg['PT Name']=='outright') & (noReg['Main Product Type']=='swap')]"
     ],
     "language": "python",
     "metadata": {},
     "outputs": [],
     "prompt_number": 578
    },
    {
     "cell_type": "code",
     "collapsed": false,
     "input": [
      "Z=outrightsUSD.apply(lambda x: -x['Z'],axis=1)"
     ],
     "language": "python",
     "metadata": {},
     "outputs": [],
     "prompt_number": 579
    },
    {
     "cell_type": "code",
     "collapsed": false,
     "input": [
      "tenor = outrightsUSD.apply(lambda x: float(x['Tenor'][:-1]),axis=1)"
     ],
     "language": "python",
     "metadata": {},
     "outputs": [],
     "prompt_number": 580
    },
    {
     "cell_type": "code",
     "collapsed": false,
     "input": [
      "temp = dict(zip(tenor, outrightsUSD['(Carry+Roll)/Std']))"
     ],
     "language": "python",
     "metadata": {},
     "outputs": [],
     "prompt_number": 581
    },
    {
     "cell_type": "code",
     "collapsed": false,
     "input": [
      "temp1=dict(zip(outrightsUSD['Z_SVD'], Z))"
     ],
     "language": "python",
     "metadata": {},
     "outputs": [],
     "prompt_number": 582
    },
    {
     "cell_type": "code",
     "collapsed": false,
     "input": [
      "filtered_temp1 = {k:v for (k,v) in temp1.items() if k != \"\"}"
     ],
     "language": "python",
     "metadata": {},
     "outputs": [],
     "prompt_number": 583
    },
    {
     "cell_type": "code",
     "collapsed": false,
     "input": [
      "levels = outrightsUSD.apply(lambda x:'C:' + str(np.round(x['Level_Current'],2)) + ',L:' + str(np.round(x['Level_Low(3m)'],2)) + ',H:' + str(np.round(x['Level_High(3m)'],2)),axis=1)"
     ],
     "language": "python",
     "metadata": {},
     "outputs": [],
     "prompt_number": 584
    },
    {
     "cell_type": "code",
     "collapsed": false,
     "input": [
      "fig, axes = plt.subplots(figsize=(12, 6))\n",
      "axes.set_title(\"OutRights(rich/cheap)\")\n",
      "axes.set_xlim([-3.0,4.0])\n",
      "axes.set_ylim([0,4.0])\n",
      "axes.spines['bottom'].set_position(('data',0))\n",
      "axes.spines['left'].set_position(('data',0))\n",
      "axes.spines['right'].set_color('none')\n",
      "axes.spines['top'].set_color('none')\n",
      "axes.xaxis.set_ticks_position('bottom')\n",
      "axes.yaxis.set_ticks_position('left')\n",
      "axes.plot(filtered_temp1.keys(), filtered_temp1.values(), color=\"blue\", lw=2, ls='*', marker='s')\n",
      "\n",
      "for aa,x,y in zip(levels,filtered_temp1.keys(),filtered_temp1.values()):\n",
      "    axes.annotate(aa,xy=(x,y),fontsize=10)\n",
      "\n",
      "fig.tight_layout()\n"
     ],
     "language": "python",
     "metadata": {},
     "outputs": [
      {
       "metadata": {},
       "output_type": "display_data",
       "png": "[encoded data removed]",
       "text": [
        "<matplotlib.figure.Figure at 0xb854730>"
       ]
      }
     ],
     "prompt_number": 585
    },
    {
     "cell_type": "code",
     "collapsed": false,
     "input": [
      "filename=\"images/Outrights\" + outrightsUSD.iloc[0]['PT_Currency'] + \"Trades_scatter.svg\""
     ],
     "language": "python",
     "metadata": {},
     "outputs": [],
     "prompt_number": 586
    },
    {
     "cell_type": "code",
     "collapsed": false,
     "input": [
      "fig.savefig(filename,dpi=500)"
     ],
     "language": "python",
     "metadata": {},
     "outputs": [],
     "prompt_number": 587
    },
    {
     "cell_type": "code",
     "collapsed": false,
     "input": [
      "fig, axes = plt.subplots(figsize=(12, 6))\n",
      "axes.bar(tenor.astype(float),outrightsUSD['Carry(3m)'],width=0.5,color='r')\n",
      "axes.bar(tenor.astype(float),outrightsUSD['Roll(3m)'],width=0.5,color='y', bottom=outrightsUSD['Carry(3m)'])\n",
      "ax2=axes.twinx()\n",
      "ax2.plot(temp.keys(),temp.values(),lw=2,color=\"blue\")\n",
      "ax2.set_ylabel(\"risk adj carry+roll\", fontsize=14, color=\"red\")\n",
      "fig.tight_layout()"
     ],
     "language": "python",
     "metadata": {},
     "outputs": [
      {
       "metadata": {},
       "output_type": "display_data",
       "png": "[encoded data removed]",
       "text": [
        "<matplotlib.figure.Figure at 0xb3091d0>"
       ]
      }
     ],
     "prompt_number": 588
    },
    {
     "cell_type": "code",
     "collapsed": false,
     "input": [
      "filename=\"images/Outrights\" + outrightsUSD.iloc[0]['PT_Currency'] + \"Trades_stackedBar.svg\"\n",
      "fig.savefig(filename,dpi=500)"
     ],
     "language": "python",
     "metadata": {},
     "outputs": [],
     "prompt_number": 589
    },
    {
     "cell_type": "code",
     "collapsed": false,
     "input": [],
     "language": "python",
     "metadata": {},
     "outputs": []
    },
    {
     "cell_type": "code",
     "collapsed": false,
     "input": [
      "from math import sqrt\n",
      "import matplotlib\n",
      "\n",
      "def latexify(fig_width=None, fig_height=None, columns=1):\n",
      "    \"\"\"Set up matplotlib's RC params for LaTeX plotting.\n",
      "    Call this before plotting a figure.\n",
      "\n",
      "    Parameters\n",
      "    ----------\n",
      "    fig_width : float, optional, inches\n",
      "    fig_height : float,  optional, inches\n",
      "    columns : {1, 2}\n",
      "    \"\"\"\n",
      "\n",
      "    # code adapted from http://www.scipy.org/Cookbook/Matplotlib/LaTeX_Examples\n",
      "\n",
      "    # Width and max height in inches for IEEE journals taken from\n",
      "    # computer.org/cms/Computer.org/Journal%20templates/transactions_art_guide.pdf\n",
      "\n",
      "    assert(columns in [1,2])\n",
      "\n",
      "    if fig_width is None:\n",
      "        fig_width = 3.39 if columns==1 else 6.9 # width in inches\n",
      "\n",
      "    if fig_height is None:\n",
      "        golden_mean = (sqrt(5)-1.0)/2.0    # Aesthetic ratio\n",
      "        fig_height = fig_width*golden_mean # height in inches\n",
      "\n",
      "    MAX_HEIGHT_INCHES = 8.0\n",
      "    if fig_height > MAX_HEIGHT_INCHES:\n",
      "        print(\"WARNING: fig_height too large:\" + fig_height + \n",
      "              \"so will reduce to\" + MAX_HEIGHT_INCHES + \"inches.\")\n",
      "        fig_height = MAX_HEIGHT_INCHES\n",
      "\n",
      "    params = {'backend': 'ps',\n",
      "              'text.latex.preamble': ['\\usepackage{gensymb}'],\n",
      "              'font.size': 7, # was 10              \n",
      "              'axes.labelsize': 7, # fontsize for x and y labels (was 10)\n",
      "              'axes.titlesize': 7,              \n",
      "              'legend.fontsize': 8, # was 10\n",
      "              'xtick.labelsize': 8,\n",
      "              'ytick.labelsize': 8,\n",
      "              'text.usetex': True,\n",
      "              'figure.figsize': [fig_width,fig_height],\n",
      "              'font.family': 'serif'\n",
      "    }\n",
      "\n",
      "    matplotlib.rcParams.update(params)\n"
     ],
     "language": "python",
     "metadata": {},
     "outputs": [],
     "prompt_number": 719
    },
    {
     "cell_type": "code",
     "collapsed": false,
     "input": [
      "latexify()\n",
      "#fig, axes = plt.subplots(figsize=(12, 6))\n",
      "fig=plt.figure()\n",
      "axes=fig.add_axes([0,0,1,1])\n",
      "axes.set_title(\"OutRights(rich/cheap)\")\n",
      "axes.set_xlim([-3.0,4.0])\n",
      "axes.set_ylim([0,4.0])\n",
      "axes.spines['bottom'].set_position(('data',0))\n",
      "axes.spines['left'].set_position(('data',0))\n",
      "axes.spines['right'].set_color('none')\n",
      "axes.spines['top'].set_color('none')\n",
      "#axes.xaxis.set_ticks_position('bottom')\n",
      "#axes.yaxis.set_ticks_position('left')\n",
      "axes.xaxis.set_ticks_position('none')\n",
      "axes.yaxis.set_ticks_position('none')\n",
      "\n",
      "for spine in ['left', 'bottom']:    \n",
      "    axes.spines[spine].set_linewidth(0.5)\n",
      "\n",
      "axes.plot(filtered_temp1.keys(), filtered_temp1.values(), color=\"blue\", lw=2, ls='*', marker='s')\n",
      "\n",
      "for aa,x,y in zip(levels,filtered_temp1.keys(),filtered_temp1.values()):\n",
      "    axes.annotate(aa,xy=(x,y))\n",
      "\n",
      "#fig.tight_layout()\n"
     ],
     "language": "python",
     "metadata": {},
     "outputs": [
      {
       "metadata": {},
       "output_type": "display_data",
       "png": "[encoded data removed]",
       "text": [
        "<matplotlib.figure.Figure at 0x11b27ef0>"
       ]
      }
     ],
     "prompt_number": 730
    },
    {
     "cell_type": "code",
     "collapsed": false,
     "input": [
      "filename=\"images/Outrights\" + outrightsUSD.iloc[0]['PT_Currency'] + \"Trades_scatter.svg\"\n",
      "fig.savefig(filename,dpi=500)"
     ],
     "language": "python",
     "metadata": {},
     "outputs": [],
     "prompt_number": 731
    },
    {
     "cell_type": "code",
     "collapsed": false,
     "input": [
      "#fig, axes = plt.subplots(figsize=(12, 6))\n",
      "fig=plt.figure()\n",
      "axes=fig.add_axes([0,0,1,1])\n",
      "axes.set_title(\"OutRights(carry/roll)\")\n",
      "axes.set_xlim([0,30.0])\n",
      "axes.spines['bottom'].set_position(('data',0))\n",
      "axes.spines['left'].set_position(('data',0))\n",
      "axes.spines['right'].set_color('none')\n",
      "axes.spines['top'].set_color('none')\n",
      "axes.xaxis.set_ticks_position('bottom')\n",
      "axes.yaxis.set_ticks_position('left')\n",
      "axes.bar(tenor.astype(float),outrightsUSD['Carry(3m)'],width=0.8,color='b',alpha=0.8,edgecolor='none',linewidth=0)\n",
      "axes.bar(tenor.astype(float),outrightsUSD['Roll(3m)'],width=0.8,color='r', bottom=outrightsUSD['Carry(3m)'], alpha=0.8,edgecolor='none',linewidth=0)\n",
      "ax2=axes.twinx()\n",
      "ax2.spines['top'].set_color('none')\n",
      "ax2.set_xlim([0,32.0])\n",
      "for spine in ['left', 'bottom','right']:    \n",
      "    ax2.spines[spine].set_linewidth(0.3)\n",
      "    axes.spines[spine].set_linewidth(0.3)\n",
      "\n",
      "ax2.plot(temp.keys(),temp.values(),lw=0.75,color=\"blue\")\n",
      "ax2.set_ylabel(\"risk adj carry+roll\",labelpad=0.2)\n"
     ],
     "language": "python",
     "metadata": {},
     "outputs": [
      {
       "metadata": {},
       "output_type": "pyout",
       "prompt_number": 728,
       "text": [
        "<matplotlib.text.Text at 0x11a9d7d0>"
       ]
      },
      {
       "metadata": {},
       "output_type": "display_data",
       "png": "[encoded data removed]",
       "text": [
        "<matplotlib.figure.Figure at 0x11a7d970>"
       ]
      }
     ],
     "prompt_number": 728
    },
    {
     "cell_type": "code",
     "collapsed": false,
     "input": [
      "filename=\"images/Outrights\" + outrightsUSD.iloc[0]['PT_Currency'] + \"Trades_stackedBar.svg\"\n",
      "fig.savefig(filename,dpi=500)"
     ],
     "language": "python",
     "metadata": {},
     "outputs": [],
     "prompt_number": 729
    },
    {
     "cell_type": "code",
     "collapsed": false,
     "input": [],
     "language": "python",
     "metadata": {},
     "outputs": []
    }
   ],
   "metadata": {}
  }
 ]
}